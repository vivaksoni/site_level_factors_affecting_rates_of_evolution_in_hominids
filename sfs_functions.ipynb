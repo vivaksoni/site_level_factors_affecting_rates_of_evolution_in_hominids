{
 "cells": [
  {
   "cell_type": "code",
   "execution_count": 1,
   "metadata": {
    "ExecuteTime": {
     "end_time": "2021-12-01T16:49:19.552407Z",
     "start_time": "2021-12-01T16:49:17.562599Z"
    }
   },
   "outputs": [],
   "source": [
    "#import modules\n",
    "import pandas as pd\n",
    "import matplotlib.pyplot as plt\n",
    "import numpy as np\n",
    "from scipy import stats\n",
    "import seaborn as sns\n",
    "%matplotlib inline\n",
    "import scipy as sp\n",
    "import statsmodels.formula.api as smf"
   ]
  },
  {
   "cell_type": "markdown",
   "metadata": {},
   "source": [
    "<h3>Functions to generate SFS</h3>"
   ]
  },
  {
   "cell_type": "code",
   "execution_count": null,
   "metadata": {
    "code_folding": []
   },
   "outputs": [],
   "source": [
    "#Function to get site counts for sfs\n",
    "def getSiteCounts(df):\n",
    "    Ln = df.Ln.sum()\n",
    "    Ls = df.Ls.sum()\n",
    "    L = Ln + Ls\n",
    "    dN = (df.dN*df.Ln).sum()\n",
    "    dS = (df.dS*df.Ls).sum()\n",
    "    return([Ln,Ls,L,dN,dS])"
   ]
  },
  {
   "cell_type": "code",
   "execution_count": null,
   "metadata": {
    "code_folding": []
   },
   "outputs": [],
   "source": [
    "#Function generated sfs for Grapes-friendly format (folded SFS)\n",
    "def getSFS(df, chromosomes, AFcol, consequence):\n",
    "    #Get counts of alleles\n",
    "    sfs = df.minor_alleles.value_counts()\n",
    "    #Convert index from float to int\n",
    "    sfs.index=sfs.index.astype(int)\n",
    "    #Convert sfs to dataframe and sort index\n",
    "    sfs=pd.DataFrame(sfs).sort_index()\n",
    "    #Create list of zeroes\n",
    "    sfs2=pd.DataFrame([0 for x in range(1,662)])\n",
    "    #Shift index so that it starts from 0, not 1\n",
    "    sfs2.index=[x+1 for x in sfs2.index]\n",
    "    #Rename column to enable addition of dfs\n",
    "    sfs2=sfs2.rename(columns={0:'minor_alleles'})\n",
    "    sfs=sfs2+sfs\n",
    "    #Convert NAs to 0\n",
    "    sfs=sfs.fillna(0)\n",
    "    #Convert floats to ints\n",
    "    sfs=sfs.astype(int)\n",
    "    return(sfs)"
   ]
  },
  {
   "cell_type": "code",
   "execution_count": null,
   "metadata": {
    "code_folding": []
   },
   "outputs": [],
   "source": [
    "#Main function to create sfs for Grapes and output to file\n",
    "#Input is dataframe of snps; no. of chromosomes in sample; column containing allele frequency info; outFile\n",
    "def getSFS_master(df, chromosomes, AFcol, outFile=''):    \n",
    "    #Remove fixed or lost mutations (ie with AF=0 or AF=1)\n",
    "    df = df[(df[AFcol]>0) & (df[AFcol]<(chromosomes))]\n",
    "    #Convert AFs to MAFs\n",
    "    df[AFcol] = np.where(df[AFcol]>(chromosomes/2), (chromosomes)-df[AFcol], df[AFcol])\n",
    "    #get site counts (sitesCol is column with si)\n",
    "    sites=getSiteCounts(df)\n",
    "    #Get SFS for non-synonymous & synonymous sites\n",
    "    sfsN=getSFS(df, chromosomes, AFcol, 'missense')\n",
    "    sfsS=getSFS(df, chromosomes, AFcol, 'synonymous')\n",
    "    Nnames = []\n",
    "    lst=[]     \n",
    "    #Add gene name to start of list\n",
    "    lst.insert(0,'all_genes')\n",
    "    #Add chromosome number to list\n",
    "    lst.insert(1,chromosomes)\n",
    "    #Add number of divergent sites and dN etc to end of list\n",
    "    lst.append(int(np.round(sites[0],0)))\n",
    "    lst.extend(list(sfsN.minor_alleles))\n",
    "    lst.append(int(np.round(sites[1],0)))\n",
    "    lst.extend(list(sfsS.minor_alleles))\n",
    "    lst.append(int(np.round(sites[0],0)))\n",
    "    lst.append(int(np.round(sites[3],0)))\n",
    "\n",
    "    lst.append(int(np.round(sites[1],0)))\n",
    "    lst.append(int(np.round(sites[4],0)))\n",
    "    Nnames.append('gene')\n",
    "    Nnames.append('chromosomes')\n",
    "    Nnames.append('Ln(poly)')\n",
    "    Nnames.extend(['Pn'+str(i) for i in range(1,len(sfsN)+1)])\n",
    "    Nnames.append('Ls(poly)')\n",
    "    Nnames.extend(['Ps'+str(i) for i in range(1,len(sfsS)+1)])\n",
    "    Nnames.append('Ln(div)')\n",
    "    Nnames.append('Dn')\n",
    "    Nnames.append('Ls(div)')\n",
    "    Nnames.append('Ds')\n",
    "\n",
    "    dictionary = dict(zip(Nnames, lst))\n",
    "    sfs=pd.DataFrame.from_dict(dictionary, orient='index').T\n",
    "    #If outFile is empty, return sfs, otherwise output to file\n",
    "    if(outFile!=''):\n",
    "        sfs.to_csv(outFile, header=True, sep=\"\\t\", index=False)\n",
    "    else:\n",
    "        return(sfs)"
   ]
  },
  {
   "cell_type": "markdown",
   "metadata": {},
   "source": [
    "<h3>Plotting grapes results</h3>"
   ]
  },
  {
   "cell_type": "code",
   "execution_count": 2,
   "metadata": {
    "ExecuteTime": {
     "end_time": "2021-12-01T17:19:20.737557Z",
     "start_time": "2021-12-01T17:19:20.720542Z"
    }
   },
   "outputs": [],
   "source": [
    "#Function takes in 2 grapes output files - main results file and second file for omega results\n",
    "def get_results(resFile, omegaFile, mergeCol):\n",
    "    rdf = pd.read_csv(resFile, sep='\\t', index_col=False, header=0)\n",
    "\n",
    "    rdf2 = pd.read_csv(omegaFile, sep=' ', names=['RSA_bin', 'omegaNA', 'CIs'])\n",
    "    \n",
    "    #Parse omega file for omegaNA results\n",
    "    rdf2['CIs'] = rdf2.CIs.str.strip('[')\n",
    "    rdf2['CIs'] = rdf2.CIs.str.strip(']')\n",
    "    rdf2['CIs'] = rdf2['CIs'].astype('str')\n",
    "    rdf2['omegaNA_low'] = [float(x[0]) for x in rdf2.CIs.str.split(',')]\n",
    "    rdf2['omegaNA_high'] = [float(x[1]) for x in rdf2.CIs.str.split(',')]\n",
    "    #merge dfs on mergeCol\n",
    "    rdf = pd.merge(rdf, rdf2, on=mergeCol, how='inner')\n",
    "    #sort values by mergeCol\n",
    "    rdf = rdf.sort_values(mergeCol)\n",
    "    return(rdf)"
   ]
  },
  {
   "cell_type": "code",
   "execution_count": 3,
   "metadata": {
    "ExecuteTime": {
     "end_time": "2021-12-01T17:24:39.864766Z",
     "start_time": "2021-12-01T17:24:39.854758Z"
    }
   },
   "outputs": [],
   "source": [
    "#Plot results from output of get_results function\n",
    "def plot_results(rdf, ind_variable):\n",
    "    sns.set(rc={'figure.figsize':(16,10),'axes.facecolor':'white','axes.edgecolor': '0.1'},font_scale=1.5)\n",
    "    #Weighted regression for omegaA\n",
    "    rdf['weight']=1/(((rdf.omegaA_high-rdf.omegaA_low)/4)**2)\n",
    "    wmod = smf.wls(\"omegaA ~ \" + ind_variable, data=rdf, weights = rdf.weight ).fit()\n",
    "    \n",
    "    g = sns.FacetGrid(rdf, height = 8)\n",
    "    g = g.map(plt.scatter, ind_variable, \"omegaA\", edgecolor=\"w\", color='b')\n",
    "    #Generate label based on significance of results\n",
    "    if(np.round(wmod.f_pvalue, 3) <= 0.001):\n",
    "        l = r'$\\omega_{a}$ (***)'\n",
    "    elif(np.round(wmod.f_pvalue, 3) <= 0.01):\n",
    "        l = r'$\\omega_{a}$ (**)'   \n",
    "    elif(np.round(wmod.f_pvalue, 3) <= 0.05):\n",
    "        l = r'$\\omega_{a}$ (*)' \n",
    "    elif(np.round(wmod.f_pvalue, 3) <= 0.1):\n",
    "        l = r'$\\omega_{a}$ (.)' \n",
    "    else:\n",
    "        l = r'$\\omega_{a}$' \n",
    "    plt.plot(rdf[ind_variable], wmod.fittedvalues, color='b', label=l)\n",
    "\n",
    "    #Repeat for omegaNA\n",
    "    rdf['weight']=1/(((rdf.omegaNA_high-rdf.omegaNA_low)/4)**2)\n",
    "    wmod = smf.wls(\"omegaNA ~ \" + ind_variable, data=rdf, weights = rdf.weight ).fit()\n",
    "    g = g.map(plt.scatter, ind_variable, \"omegaNA\", edgecolor=\"w\", color='r')\n",
    "    #Generate label based on significance of results\n",
    "    if(np.round(wmod.f_pvalue, 3) <= 0.001):\n",
    "        l = r'$\\omega_{na}$ (***)'\n",
    "    elif(np.round(wmod.f_pvalue, 3) <= 0.01):\n",
    "        l = r'$\\omega_{na}$ (**)'   \n",
    "    elif(np.round(wmod.f_pvalue, 3) <= 0.05):\n",
    "        l = r'$\\omega_{na}$ (*)' \n",
    "    elif(np.round(wmod.f_pvalue, 3) <= 0.1):\n",
    "        l = r'$\\omega_{na}$ (.)' \n",
    "    else:\n",
    "        l = r'$\\omega_{na}$' \n",
    "    plt.plot(rdf[ind_variable], wmod.fittedvalues, color='r', label=l)\n",
    "    plt.xlabel(ind_variable)\n",
    "    plt.ylabel(r'rate of evolution')\n",
    "    plt.legend()\n",
    "    plt.show() \n"
   ]
  },
  {
   "cell_type": "code",
   "execution_count": null,
   "metadata": {},
   "outputs": [],
   "source": []
  }
 ],
 "metadata": {
  "hide_input": false,
  "kernelspec": {
   "display_name": "Python 3",
   "language": "python",
   "name": "python3"
  },
  "language_info": {
   "codemirror_mode": {
    "name": "ipython",
    "version": 3
   },
   "file_extension": ".py",
   "mimetype": "text/x-python",
   "name": "python",
   "nbconvert_exporter": "python",
   "pygments_lexer": "ipython3",
   "version": "3.7.3"
  },
  "varInspector": {
   "cols": {
    "lenName": 16,
    "lenType": 16,
    "lenVar": 40
   },
   "kernels_config": {
    "python": {
     "delete_cmd_postfix": "",
     "delete_cmd_prefix": "del ",
     "library": "var_list.py",
     "varRefreshCmd": "print(var_dic_list())"
    },
    "r": {
     "delete_cmd_postfix": ") ",
     "delete_cmd_prefix": "rm(",
     "library": "var_list.r",
     "varRefreshCmd": "cat(var_dic_list()) "
    }
   },
   "types_to_exclude": [
    "module",
    "function",
    "builtin_function_or_method",
    "instance",
    "_Feature"
   ],
   "window_display": false
  }
 },
 "nbformat": 4,
 "nbformat_minor": 4
}
